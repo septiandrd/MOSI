{
 "cells": [
  {
   "cell_type": "code",
   "execution_count": 6,
   "metadata": {
    "collapsed": true
   },
   "outputs": [],
   "source": [
    "import numpy as np\n",
    "import pandas as pd"
   ]
  },
  {
   "cell_type": "code",
   "execution_count": 4,
   "metadata": {},
   "outputs": [],
   "source": [
    "def generate_populasi(nDestination,popSize) :\n",
    "    pop = np.empty((0,nDestination*2-1),int)\n",
    "    for i in range(popSize) :\n",
    "        kromosom = np.array(0)\n",
    "        half = int((nDestination-2)/2)\n",
    "        hotels = np.random.permutation([i for i in range(1,nDestination-1)])\n",
    "        kromosom = np.append(kromosom,hotels)\n",
    "        kromosom = np.append(kromosom,nDestination-1)\n",
    "        kromosom = np.append(kromosom,np.random.permutation(hotels[:half]))\n",
    "        kromosom = np.append(kromosom,np.random.permutation(hotels[half:]))\n",
    "        kromosom = np.append(kromosom,0)\n",
    "        pop = np.append(pop,np.array([kromosom]),axis=0)\n",
    "    return pop\n",
    "\n",
    "def generate_path(nDestination,nPath) :\n",
    "    path = [[0 for i in range (nDestination)] for i in range (nDestination)]\n",
    "    \n",
    "    n=0\n",
    "    while True :\n",
    "        for j in range(nDestination) :\n",
    "            dest = np.random.choice([i for i in range(nDestination) if i not in[j]])\n",
    "            dist = np.random.randint(1,10)\n",
    "            path[j][dest] = dist\n",
    "            path[dest][j] = dist\n",
    "            n+=1\n",
    "            if n==nPath : break\n",
    "        if n==nPath : break\n",
    "        \n",
    "    return path\n",
    "\n",
    "def hitung_fitness(kromosom,path) :\n",
    "    distance = 0\n",
    "    for i in range(len(kromosom)-1) :\n",
    "        distance += hitung_jarak(kromosom[i],kromosom[i+1],path)\n",
    "    return distance\n",
    "\n",
    "def mutasi(kromosom,nDestination,pMutasi) :\n",
    "    for i in range(int((nDestination-2)/2)) :\n",
    "        rand = np.random.uniform()\n",
    "        half = int((nDestination-2)/2)\n",
    "        if rand <= pMutasi :\n",
    "            point = np.random.choice([i for i in range(1,half+1)])  \n",
    "            a = kromosom[point]\n",
    "            b = kromosom[nDestination-(point+1)]\n",
    "            \n",
    "            a1 = kromosom[1:nDestination-1].tolist().index(a)+1\n",
    "            b1 = kromosom[1:nDestination-1].tolist().index(b)+1\n",
    "            a2 = kromosom[nDestination:len(kromosom)].tolist().index(a)+nDestination\n",
    "            b2 = kromosom[nDestination:len(kromosom)].tolist().index(b)+nDestination\n",
    "            \n",
    "            kromosom[a1] = b\n",
    "            kromosom[b1] = a\n",
    "            kromosom[a2] = b\n",
    "            kromosom[b2] = a\n",
    "\n",
    "    return kromosom\n",
    "    \n",
    "def hitung_jarak(a,b,path) :\n",
    "    count = 0\n",
    "    if a == b :\n",
    "        return 0\n",
    "    if path[a][b] == 0 :\n",
    "        total_dist = 0\n",
    "        start = a\n",
    "        while True:\n",
    "            dist = np.random.choice([dist for dist in path[start] if dist not in[0]])\n",
    "            total_dist += dist\n",
    "            # print('dist',dist)\n",
    "            next = path[start].index(dist)\n",
    "            if next == b :\n",
    "                break\n",
    "            count+=1\n",
    "            if count == 500 :\n",
    "                return 100\n",
    "        return dist\n",
    "    else:\n",
    "        return path[a][b]\n"
   ]
  },
  {
   "cell_type": "code",
   "execution_count": 13,
   "metadata": {
    "collapsed": true
   },
   "outputs": [
    {
     "name": "stdout",
     "output_type": "stream",
     "text": [
      "   0  1  2  3  4  5  6\n0  0  3  1  5  9  8  0\n1  3  0  0  0  4  6  0\n2  1  0  0  8  7  0  0\n3  5  0  8  0  0  3  1\n4  9  4  7  0  0  0  9\n5  8  6  0  3  0  0  2\n6  0  0  0  1  9  2  0\n\n"
     ]
    },
    {
     "name": "stdout",
     "output_type": "stream",
     "text": [
      "\rGenerasi ke-0 dari 10 generasi"
     ]
    },
    {
     "name": "stdout",
     "output_type": "stream",
     "text": [
      "\rGenerasi ke-1 dari 10 generasi"
     ]
    },
    {
     "name": "stdout",
     "output_type": "stream",
     "text": [
      "\rGenerasi ke-2 dari 10 generasi"
     ]
    },
    {
     "name": "stdout",
     "output_type": "stream",
     "text": [
      "\rGenerasi ke-3 dari 10 generasi"
     ]
    },
    {
     "name": "stdout",
     "output_type": "stream",
     "text": [
      "\rGenerasi ke-4 dari 10 generasi"
     ]
    },
    {
     "name": "stdout",
     "output_type": "stream",
     "text": [
      "\rGenerasi ke-5 dari 10 generasi"
     ]
    },
    {
     "name": "stdout",
     "output_type": "stream",
     "text": [
      "\rGenerasi ke-6 dari 10 generasi"
     ]
    },
    {
     "name": "stdout",
     "output_type": "stream",
     "text": [
      "\rGenerasi ke-7 dari 10 generasi"
     ]
    },
    {
     "name": "stdout",
     "output_type": "stream",
     "text": [
      "\rGenerasi ke-8 dari 10 generasi"
     ]
    },
    {
     "name": "stdout",
     "output_type": "stream",
     "text": [
      "\rGenerasi ke-9 dari 10 generasi\rGenerasi Ke- 10\nIndividu Terbaik \t:  [0 2 4 1 5 3 6 4 2 3 5 1 0]\nValue \t\t:  58\n"
     ]
    }
   ],
   "source": [
    "pMutasi = 0.8\n",
    "popSize = 100\n",
    "nGeneration = 10\n",
    "\n",
    "nDestination = np.random.randint(5,11)\n",
    "# nPath = np.random.randint(nDestination,nDestination*(nDestination-1)/2+1)\n",
    "nPath=nDestination*(nDestination-1)/2\n",
    "\n",
    "pop = generate_populasi(nDestination,popSize)\n",
    "path = generate_path(nDestination,nPath)\n",
    "ppath = pd.DataFrame(path)\n",
    "\n",
    "print(ppath,end='\\n\\n')\n",
    "\n",
    "for generation in range(nGeneration) :\n",
    "    newPop = []\n",
    "    fitness = []\n",
    "    \n",
    "    for j in range(int(popSize/2)):\n",
    "\n",
    "        # SELEKSI ORANG TUA\n",
    "\n",
    "        parent1 = pop[np.random.randint(popSize)].copy()\n",
    "        parent2 = pop[np.random.randint(popSize)].copy()\n",
    "\n",
    "        # MUTASI\n",
    "\n",
    "        anak1 = mutasi(parent1,nDestination,pMutasi)\n",
    "        anak2 = mutasi(parent2,nDestination,pMutasi)\n",
    "            \n",
    "        newPop.append(anak1)\n",
    "        newPop.append(anak2)\n",
    "        \n",
    "        # STEADY STATE\n",
    "    \n",
    "    all = np.concatenate((pop,newPop))\n",
    "    for kromosom in all :\n",
    "        fitness.append(hitung_fitness(kromosom,path))\n",
    "\n",
    "    steadyState = sorted(range(len(fitness)),key=lambda k:fitness[k], reverse = False)\n",
    "    pop = []\n",
    "    for i in range(popSize) :\n",
    "        pop.append(all[steadyState[i]])\n",
    "    print(\"\\rGenerasi ke-%i dari %i generasi\"%(generation,nGeneration),end='')\n",
    "        \n",
    "print(\"\\rGenerasi Ke-\",generation+1)\n",
    "print(\"Individu Terbaik \\t: \",pop[0])\n",
    "print(\"Value \\t\\t: \" ,fitness[steadyState[0]])"
   ]
  },
  {
   "cell_type": "code",
   "execution_count": null,
   "metadata": {},
   "outputs": [],
   "source": []
  }
 ],
 "metadata": {
  "kernelspec": {
   "display_name": "Python 2",
   "language": "python",
   "name": "python2"
  },
  "language_info": {
   "codemirror_mode": {
    "name": "ipython",
    "version": 2
   },
   "file_extension": ".py",
   "mimetype": "text/x-python",
   "name": "python",
   "nbconvert_exporter": "python",
   "pygments_lexer": "ipython2",
   "version": "2.7.6"
  }
 },
 "nbformat": 4,
 "nbformat_minor": 0
}
