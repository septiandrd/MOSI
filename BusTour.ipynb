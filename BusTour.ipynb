{
 "cells": [
  {
   "cell_type": "code",
   "execution_count": 6,
   "metadata": {
    "collapsed": true
   },
   "outputs": [],
   "source": [
    "import numpy as np\n",
    "import pandas as pd"
   ]
  },
  {
   "cell_type": "code",
   "execution_count": 18,
   "metadata": {},
   "outputs": [],
   "source": [
    "def generate_populasi(nDestination,popSize) :\n",
    "    pop = np.empty((0,nDestination*2-1),int)\n",
    "    for i in range(popSize) :\n",
    "        kromosom = np.array(0)\n",
    "        half = int((nDestination-2)/2)\n",
    "        hotels = np.random.permutation([i for i in range(1,nDestination-1)])\n",
    "        kromosom = np.append(kromosom,hotels)\n",
    "        kromosom = np.append(kromosom,nDestination-1)\n",
    "        kromosom = np.append(kromosom,np.random.permutation(hotels[:half]))\n",
    "        kromosom = np.append(kromosom,np.random.permutation(hotels[half:]))\n",
    "        kromosom = np.append(kromosom,0)\n",
    "        pop = np.append(pop,np.array([kromosom]),axis=0)\n",
    "    return pop\n",
    "\n",
    "def generate_path(nDestination,nPath) :\n",
    "    path = [[0 for i in range (nDestination)] for i in range (nDestination)]\n",
    "    \n",
    "    n=0\n",
    "    while True :\n",
    "        for j in range(nDestination) :\n",
    "            dest = np.random.choice([i for i in range(nDestination) if i not in[j]])\n",
    "            dist = np.random.randint(1,10)\n",
    "            path[j][dest] = dist\n",
    "            path[dest][j] = dist\n",
    "            n+=1\n",
    "            if n==nPath : break\n",
    "        if n==nPath : break\n",
    "        \n",
    "    return path\n",
    "\n",
    "def hitung_fitness(kromosom,path) :\n",
    "    distance = 0\n",
    "    for i in range(len(kromosom)-1) :\n",
    "        distance += hitung_jarak(kromosom[i],kromosom[i+1],path)\n",
    "    return distance\n",
    "\n",
    "def mutasi(kromosom,nDestination,pMutasi) :\n",
    "    for i in range(int((nDestination-2)/2)) :\n",
    "        rand = np.random.uniform()\n",
    "        half = int((nDestination-2)/2)\n",
    "        if rand <= pMutasi :\n",
    "            point = np.random.choice([i for i in range(1,half+1)])  \n",
    "            a = kromosom[point]\n",
    "            b = kromosom[nDestination-(point+1)]\n",
    "            \n",
    "            a1 = kromosom[1:nDestination-1].tolist().index(a)+1\n",
    "            b1 = kromosom[1:nDestination-1].tolist().index(b)+1\n",
    "            a2 = kromosom[nDestination:len(kromosom)].tolist().index(a)+nDestination\n",
    "            b2 = kromosom[nDestination:len(kromosom)].tolist().index(b)+nDestination\n",
    "            \n",
    "            kromosom[a1] = b\n",
    "            kromosom[b1] = a\n",
    "            kromosom[a2] = b\n",
    "            kromosom[b2] = a\n",
    "\n",
    "    return kromosom\n",
    "    \n",
    "def hitung_jarak(a,b,path) :\n",
    "    count = 0\n",
    "    if a == b :\n",
    "        return 0\n",
    "    if path[a][b] == 0 :\n",
    "        total_dist = 0\n",
    "        start = a\n",
    "        while True:\n",
    "            dist = np.random.choice([dist for dist in path[start] if dist not in[0]])\n",
    "            total_dist += dist\n",
    "            # print('dist',dist)\n",
    "            next = path[start].index(dist)\n",
    "            if next == b :\n",
    "                break\n",
    "            count+=1\n",
    "            if count == 100 :\n",
    "                return 100\n",
    "        return dist\n",
    "    else:\n",
    "        return path[a][b]\n"
   ]
  },
  {
   "cell_type": "code",
   "execution_count": 24,
   "metadata": {
    "collapsed": true
   },
   "outputs": [
    {
     "name": "stdout",
     "output_type": "stream",
     "text": [
      "Jumlah tujuan : 13\nPath :\n     0   1   2   3   4   5   6   7   8   9   10  11  12\n0    0   0   0   3   8   0   0   7   1   2   0   7   4\n1    0   0   2   0   5   9   0   3   0   0   8   2   2\n2    0   2   0   5   4   8   0   5   0   0   8   0   2\n3    3   0   5   0   4   0   1   5   4   5   9   0   2\n4    8   5   4   4   0   0   4   8   8   5   5   0   0\n5    0   9   8   0   0   0   0   3   0   0   8   0   6\n6    0   0   0   1   4   0   0   3   2   2   6   6   0\n7    7   3   5   5   8   3   3   0   4   3   0   0   2\n8    1   0   0   4   8   0   2   4   0   8   2   9   0\n9    2   0   0   5   5   0   2   3   8   0   1   7   1\n10   0   8   8   9   5   8   6   0   2   1   0   2   0\n11   7   2   0   0   0   0   6   0   9   7   2   0   5\n12   4   2   2   2   0   6   0   2   0   1   0   5   0\n\n"
     ]
    },
    {
     "name": "stdout",
     "output_type": "stream",
     "text": [
      "\rGenerasi ke-0 dari 50 generasi, waktu = 397"
     ]
    },
    {
     "name": "stdout",
     "output_type": "stream",
     "text": [
      "\rGenerasi ke-1 dari 50 generasi, waktu = 387"
     ]
    },
    {
     "name": "stdout",
     "output_type": "stream",
     "text": [
      "\rGenerasi ke-2 dari 50 generasi, waktu = 387"
     ]
    },
    {
     "name": "stdout",
     "output_type": "stream",
     "text": [
      "\rGenerasi ke-3 dari 50 generasi, waktu = 297"
     ]
    },
    {
     "name": "stdout",
     "output_type": "stream",
     "text": [
      "\rGenerasi ke-4 dari 50 generasi, waktu = 297"
     ]
    },
    {
     "name": "stdout",
     "output_type": "stream",
     "text": [
      "\rGenerasi ke-5 dari 50 generasi, waktu = 297"
     ]
    },
    {
     "name": "stdout",
     "output_type": "stream",
     "text": [
      "\rGenerasi ke-6 dari 50 generasi, waktu = 297"
     ]
    },
    {
     "name": "stdout",
     "output_type": "stream",
     "text": [
      "\rGenerasi ke-7 dari 50 generasi, waktu = 297"
     ]
    },
    {
     "name": "stdout",
     "output_type": "stream",
     "text": [
      "\rGenerasi ke-8 dari 50 generasi, waktu = 297"
     ]
    },
    {
     "name": "stdout",
     "output_type": "stream",
     "text": [
      "\rGenerasi ke-9 dari 50 generasi, waktu = 297"
     ]
    },
    {
     "name": "stdout",
     "output_type": "stream",
     "text": [
      "\rGenerasi ke-10 dari 50 generasi, waktu = 297"
     ]
    },
    {
     "name": "stdout",
     "output_type": "stream",
     "text": [
      "\rGenerasi ke-11 dari 50 generasi, waktu = 297"
     ]
    },
    {
     "name": "stdout",
     "output_type": "stream",
     "text": [
      "\rGenerasi ke-12 dari 50 generasi, waktu = 297"
     ]
    },
    {
     "name": "stdout",
     "output_type": "stream",
     "text": [
      "\rGenerasi ke-13 dari 50 generasi, waktu = 297"
     ]
    },
    {
     "name": "stdout",
     "output_type": "stream",
     "text": [
      "\rGenerasi ke-14 dari 50 generasi, waktu = 109\rGenerasi ke-15 dari 50 generasi, waktu = 109"
     ]
    },
    {
     "name": "stdout",
     "output_type": "stream",
     "text": [
      "\rGenerasi ke-16 dari 50 generasi, waktu = 109\rGenerasi ke-17 dari 50 generasi, waktu = 109"
     ]
    },
    {
     "name": "stdout",
     "output_type": "stream",
     "text": [
      "\rGenerasi ke-18 dari 50 generasi, waktu = 109"
     ]
    },
    {
     "name": "stdout",
     "output_type": "stream",
     "text": [
      "\rGenerasi ke-19 dari 50 generasi, waktu = 109\rGenerasi ke-20 dari 50 generasi, waktu = 109\rGenerasi ke-21 dari 50 generasi, waktu = 109"
     ]
    },
    {
     "name": "stdout",
     "output_type": "stream",
     "text": [
      "\rGenerasi ke-22 dari 50 generasi, waktu = 109\rGenerasi ke-23 dari 50 generasi, waktu = 109"
     ]
    },
    {
     "name": "stdout",
     "output_type": "stream",
     "text": [
      "\rGenerasi ke-24 dari 50 generasi, waktu = 109\rGenerasi ke-25 dari 50 generasi, waktu = 109"
     ]
    },
    {
     "name": "stdout",
     "output_type": "stream",
     "text": [
      "\rGenerasi ke-26 dari 50 generasi, waktu = 109\rGenerasi ke-27 dari 50 generasi, waktu = 109"
     ]
    },
    {
     "name": "stdout",
     "output_type": "stream",
     "text": [
      "\rGenerasi ke-28 dari 50 generasi, waktu = 109\rGenerasi ke-29 dari 50 generasi, waktu = 109"
     ]
    },
    {
     "name": "stdout",
     "output_type": "stream",
     "text": [
      "\rGenerasi ke-30 dari 50 generasi, waktu = 109\rGenerasi ke-31 dari 50 generasi, waktu = 109"
     ]
    },
    {
     "name": "stdout",
     "output_type": "stream",
     "text": [
      "\rGenerasi ke-32 dari 50 generasi, waktu = 109\rGenerasi ke-33 dari 50 generasi, waktu = 109"
     ]
    },
    {
     "name": "stdout",
     "output_type": "stream",
     "text": [
      "\rGenerasi ke-34 dari 50 generasi, waktu = 109\rGenerasi ke-35 dari 50 generasi, waktu = 109"
     ]
    },
    {
     "name": "stdout",
     "output_type": "stream",
     "text": [
      "\rGenerasi ke-36 dari 50 generasi, waktu = 109\rGenerasi ke-37 dari 50 generasi, waktu = 109"
     ]
    },
    {
     "name": "stdout",
     "output_type": "stream",
     "text": [
      "\rGenerasi ke-38 dari 50 generasi, waktu = 109\rGenerasi ke-39 dari 50 generasi, waktu = 109"
     ]
    },
    {
     "name": "stdout",
     "output_type": "stream",
     "text": [
      "\rGenerasi ke-40 dari 50 generasi, waktu = 109\rGenerasi ke-41 dari 50 generasi, waktu = 109"
     ]
    },
    {
     "name": "stdout",
     "output_type": "stream",
     "text": [
      "\rGenerasi ke-42 dari 50 generasi, waktu = 109\rGenerasi ke-43 dari 50 generasi, waktu = 109"
     ]
    },
    {
     "name": "stdout",
     "output_type": "stream",
     "text": [
      "\rGenerasi ke-44 dari 50 generasi, waktu = 109\rGenerasi ke-45 dari 50 generasi, waktu = 109"
     ]
    },
    {
     "name": "stdout",
     "output_type": "stream",
     "text": [
      "\rGenerasi ke-46 dari 50 generasi, waktu = 109\rGenerasi ke-47 dari 50 generasi, waktu = 109"
     ]
    },
    {
     "name": "stdout",
     "output_type": "stream",
     "text": [
      "\rGenerasi ke-48 dari 50 generasi, waktu = 109\rGenerasi ke-49 dari 50 generasi, waktu = 109\rGenerasi Ke- 50\nIndividu Terbaik \t:  [ 0  8  4  1 11  9  6 10  5  7  3  2 12 11  1  4  9  8 10  6  7  5  2  3\n  0]\nWaktu \t\t:  109\n"
     ]
    }
   ],
   "source": [
    "pMutasi = 0.8\n",
    "popSize = 50\n",
    "nGeneration = 50\n",
    "\n",
    "nDestination = np.random.randint(10,20)\n",
    "# nPath = np.random.randint(nDestination,nDestination*(nDestination-1)/2+1)\n",
    "nPath=nDestination*(nDestination-1)/2\n",
    "\n",
    "pop = generate_populasi(nDestination,popSize)\n",
    "path = generate_path(nDestination,nPath)\n",
    "ppath = pd.DataFrame(path)\n",
    "\n",
    "print('Jumlah tujuan :',nDestination)\n",
    "print('Path :\\n',ppath,end='\\n\\n')\n",
    "\n",
    "for generation in range(nGeneration) :\n",
    "    newPop = []\n",
    "    fitness = []\n",
    "    \n",
    "    for j in range(int(popSize/2)):\n",
    "\n",
    "        # SELEKSI ORANG TUA\n",
    "\n",
    "        parent1 = pop[np.random.randint(popSize)].copy()\n",
    "        parent2 = pop[np.random.randint(popSize)].copy()\n",
    "\n",
    "        # MUTASI\n",
    "\n",
    "        anak1 = mutasi(parent1,nDestination,pMutasi)\n",
    "        anak2 = mutasi(parent2,nDestination,pMutasi)\n",
    "            \n",
    "        newPop.append(anak1)\n",
    "        newPop.append(anak2)\n",
    "        \n",
    "        # STEADY STATE\n",
    "    \n",
    "    all = np.concatenate((pop,newPop))\n",
    "    for kromosom in all :\n",
    "        fitness.append(hitung_fitness(kromosom,path))\n",
    "\n",
    "    steadyState = sorted(range(len(fitness)),key=lambda k:fitness[k], reverse = False)\n",
    "    pop = []\n",
    "    for i in range(popSize) :\n",
    "        pop.append(all[steadyState[i]])\n",
    "    print(\"\\rGenerasi ke-%i dari %i generasi, waktu = %i\"%(generation,nGeneration,fitness[steadyState[0]]),end='')\n",
    "        \n",
    "print(\"\\rGenerasi Ke-\",generation+1)\n",
    "print(\"Individu Terbaik \\t: \",pop[0])\n",
    "print(\"Waktu \\t\\t: \" ,fitness[steadyState[0]])"
   ]
  },
  {
   "cell_type": "code",
   "execution_count": null,
   "metadata": {},
   "outputs": [],
   "source": []
  }
 ],
 "metadata": {
  "kernelspec": {
   "display_name": "Python 2",
   "language": "python",
   "name": "python2"
  },
  "language_info": {
   "codemirror_mode": {
    "name": "ipython",
    "version": 2
   },
   "file_extension": ".py",
   "mimetype": "text/x-python",
   "name": "python",
   "nbconvert_exporter": "python",
   "pygments_lexer": "ipython2",
   "version": "2.7.6"
  }
 },
 "nbformat": 4,
 "nbformat_minor": 0
}
